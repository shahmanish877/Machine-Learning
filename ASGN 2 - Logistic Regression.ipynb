{
 "cells": [
  {
   "cell_type": "code",
   "execution_count": 2,
   "id": "initial_id",
   "metadata": {
    "collapsed": true,
    "ExecuteTime": {
     "end_time": "2023-08-28T01:26:05.954342300Z",
     "start_time": "2023-08-28T01:26:05.953833800Z"
    }
   },
   "outputs": [],
   "source": [
    "import numpy as np\n",
    "import pandas as pd\n",
    "\n",
    "SEED = 11\n",
    "\n",
    "np.random.seed(SEED)"
   ]
  },
  {
   "cell_type": "code",
   "execution_count": null,
   "outputs": [],
   "source": [
    "class LogisticRegression:\n",
    "    def __init__(self, X, y):\n",
    "        self.param = {}\n",
    "        self.m, self.n = X.shape\n",
    "        self.param['W'] = np.random.rand(self.n, 1) * 0.001\n",
    "        self.param['b'] = np.zeros(1)\n",
    "        \n",
    "        self.X = X\n",
    "        self.y = y\n",
    "        self.result = pd.DataFrame()\n",
    "        \n",
    "    def train(self, alpha = 0.001, epochs = 10):\n",
    "        for epoch in range(epochs):\n",
    "            print(\"Epoch: \", epoch, end=\"\")\n",
    "            z = np.dot(self.X, self.param['W']) + self.param['b']\n",
    "            \n",
    "            self.y_pred = self.sigmoid(z)\n",
    "            self.result[0] = self.y\n",
    "            \n",
    "            #Update parameters\n",
    "            self.param['W'] = self.param['W'] - alpha * 1/self.m * np.dot(self.X.transpose(), (self.y_pred - np.reshape(self.y, (self.m, 1))))\n",
    "            \n",
    "            self.param['b'] = self.param['b'] - alpha * 1/self.m * np.sum(self.y_pred - np.reshape(self.y, (self.m, 1)))\n",
    "            \n",
    "            self.y_pred = self.sigmoid(np.dot(self.X, self.param['W']) + self.param['b'])\n",
    "            \n",
    "            loss = self.loss(self.y, self.y_pred)\n",
    "            \n",
    "            self.result[1] = self.y_pred\n",
    "            print(\", loss = \", loss)\n",
    "            \n",
    "            \n",
    "        print(\"\\n Final Loss is \", loss)\n",
    "        print(\"Coefficients are: \\n W: {}, b = {}\".format(self.param['W'], self.param['b']))\n",
    "        \n",
    "    @staticmethod\n",
    "    def loss(y, y_pred):\n",
    "        y_zero_loss = y.T.dot(np.log(y_pred))\n",
    "        y_one_loss = (1-y).T.dot(np.log(1 - y_pred))\n",
    "        \n",
    "        return -np.sum(y_zero_loss + y_one_loss)/len(y)\n",
    "    \n",
    "    @staticmethod\n",
    "    def sigmoid(z):\n",
    "        return 1.0/(1 + np.exp(-z))\n",
    "    \n",
    "    def predict(self, X):\n",
    "        return self.sigmoid(np.dot(X, self.param['W'])) + self.param['b']"
   ],
   "metadata": {
    "collapsed": false
   },
   "id": "68505303ac85a0c0"
  },
  {
   "cell_type": "code",
   "execution_count": null,
   "outputs": [],
   "source": [
    "\n",
    "\n",
    "alpha = 0.1\n",
    "epochs = 100\n",
    "log_model = LogisticRegression(X, y)\n",
    "log_model.train(alpha, epochs)"
   ],
   "metadata": {
    "collapsed": false
   },
   "id": "1f66791707b5ab38"
  },
  {
   "cell_type": "code",
   "execution_count": null,
   "outputs": [],
   "source": [],
   "metadata": {
    "collapsed": false
   },
   "id": "24cd86bf84b79ea8"
  }
 ],
 "metadata": {
  "kernelspec": {
   "display_name": "Python 3",
   "language": "python",
   "name": "python3"
  },
  "language_info": {
   "codemirror_mode": {
    "name": "ipython",
    "version": 2
   },
   "file_extension": ".py",
   "mimetype": "text/x-python",
   "name": "python",
   "nbconvert_exporter": "python",
   "pygments_lexer": "ipython2",
   "version": "2.7.6"
  }
 },
 "nbformat": 4,
 "nbformat_minor": 5
}
